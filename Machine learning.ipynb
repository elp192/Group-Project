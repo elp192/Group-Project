{
 "cells": [
  {
   "cell_type": "code",
   "execution_count": 1,
   "id": "5ee0eaa4",
   "metadata": {},
   "outputs": [],
   "source": [
    "import numpy as np\n",
    "import pandas as pd\n",
    "from category_encoders import *\n",
    "from sklearn.compose import *\n",
    "from sklearn.ensemble import RandomForestClassifier, ExtraTreesClassifier, IsolationForest\n",
    "from sklearn.experimental import enable_iterative_imputer\n",
    "from sklearn.impute import *\n",
    "from sklearn.linear_model import LogisticRegression, PassiveAggressiveClassifier, RidgeClassifier, SGDClassifier\n",
    "from sklearn.metrics import make_scorer, balanced_accuracy_score, f1_score,  precision_score, recall_score, confusion_matrix\n",
    "from sklearn.pipeline import Pipeline\n",
    "from sklearn.preprocessing import *\n",
    "from sklearn.tree import DecisionTreeClassifier, ExtraTreeClassifier\n",
    "from sklearn.model_selection import RandomizedSearchCV, GridSearchCV\n",
    "from sklearn.model_selection import train_test_split"
   ]
  },
  {
   "cell_type": "code",
   "execution_count": 2,
   "id": "dedbcc50",
   "metadata": {},
   "outputs": [],
   "source": [
    "booking_data = pd.read_csv(\"hotel_reservations.csv\")"
   ]
  },
  {
   "cell_type": "code",
   "execution_count": 3,
   "id": "f3ecfd03",
   "metadata": {},
   "outputs": [],
   "source": [
    "y = booking_data[\"is_canceled\"] # extract target"
   ]
  },
  {
   "cell_type": "code",
   "execution_count": 4,
   "id": "c0c91df7",
   "metadata": {},
   "outputs": [],
   "source": [
    "X = booking_data.drop([\"is_canceled\"],\n",
    "                      axis=1) "
   ]
  },
  {
   "cell_type": "code",
   "execution_count": 5,
   "id": "2444c3bb",
   "metadata": {},
   "outputs": [],
   "source": [
    "cat_columns = X.dtypes==object\n",
    "con_columns = ~cat_columns"
   ]
  },
  {
   "cell_type": "code",
   "execution_count": 6,
   "id": "d457246e",
   "metadata": {},
   "outputs": [],
   "source": [
    "cat_columns [[\"company\", \"agent\", \"reservation_status\", \"reservation_status_date\"]] = False\n",
    "con_columns [[\"company\", \"agent\", \"reservation_status\", \"reservation_status_date\"]] = False"
   ]
  },
  {
   "cell_type": "code",
   "execution_count": 7,
   "id": "47b9ffc7",
   "metadata": {},
   "outputs": [],
   "source": [
    "X_train, X_test, y_train, y_test = train_test_split(X, y, test_size=0.25, random_state=42)"
   ]
  },
  {
   "cell_type": "code",
   "execution_count": 8,
   "id": "424d3b89",
   "metadata": {},
   "outputs": [],
   "source": [
    "cat_pipe = Pipeline([(\"cat_imputer\", SimpleImputer(missing_values=np.nan,\n",
    "                                              strategy=\"most_frequent\")),\n",
    "                     (\"ohe\", OneHotEncoder(handle_unknown=\"ignore\"))])\n",
    "\n",
    "con_pipe = Pipeline([(\"con_imputer\", SimpleImputer(missing_values=np.nan,\n",
    "                                                  strategy=\"median\")),\n",
    "                    (\"scaler\", StandardScaler())])\n",
    "\n",
    "preprocessing = ColumnTransformer([(\"categorical\", cat_pipe, cat_columns),\n",
    "                                  (\"continuous\", con_pipe, con_columns)],\n",
    "                                 remainder=\"drop\")\n"
   ]
  },
  {
   "cell_type": "code",
   "execution_count": 9,
   "id": "28e49868",
   "metadata": {},
   "outputs": [],
   "source": [
    "pipe = Pipeline([(\"preprocessing\", preprocessing),\n",
    "                (\"rf\", RandomForestClassifier())])"
   ]
  },
  {
   "cell_type": "code",
   "execution_count": 10,
   "id": "dd4010a6",
   "metadata": {},
   "outputs": [],
   "source": [
    "rf_hyperparams = {\"rf__n_estimators\": [10,20,50], # number of trees used in random forest, very high values could lead to overfitting\n",
    "                 \"rf__max_depth\": [5, 10,15], # max depth of each tree, if the depth is too low, the accuracy is poor\n",
    "                 \"rf__criterion\": [\"gini\", \"entropy\"], # to check whether impurity or information gain is the best way to split\n",
    "                 \"rf__min_samples_leaf\": [3,5,10], # minimum samples beyond which a node cannot be split, higher values imply more generality\n",
    "                 \"rf__max_features\": [\"sqrt\", \"log2\"], # to check what is the best way limit the number of features to each tree\n",
    "                 \"rf__bootstrap\": [True, False]} # to check whether bagging and aggregating results in a better model \n"
   ]
  },
  {
   "cell_type": "code",
   "execution_count": 11,
   "id": "61bdd81d",
   "metadata": {},
   "outputs": [],
   "source": [
    "f1_wtd = make_scorer(f1_score, average=\"weighted\")\n",
    "pr_wtd = make_scorer(precision_score, average=\"weighted\")\n",
    "bal_acc_score = make_scorer(balanced_accuracy_score)\n",
    "recall_wtd = make_scorer(recall_score, average = \"weighted\")\n",
    "\n",
    "scoring_dict = {\"bal_acc_score\": bal_acc_score,\n",
    "            \"f1_wtd\": f1_wtd,\n",
    "            \"pr_wtd\": pr_wtd,\n",
    "            \"recall_wtd\": recall_wtd}"
   ]
  },
  {
   "cell_type": "code",
   "execution_count": 12,
   "id": "1c9e30b5",
   "metadata": {},
   "outputs": [],
   "source": [
    "rscv = RandomizedSearchCV(estimator=pipe,\n",
    "                    param_distributions=rf_hyperparams,\n",
    "                    n_iter = 10,\n",
    "                    scoring = scoring_dict,\n",
    "                    refit = \"bal_acc_score\",\n",
    "                    n_jobs = -1,\n",
    "                    cv = 5,\n",
    "                    random_state=42)"
   ]
  },
  {
   "cell_type": "code",
   "execution_count": 13,
   "id": "e7c5724d",
   "metadata": {},
   "outputs": [
    {
     "name": "stderr",
     "output_type": "stream",
     "text": [
      "/Users/nikhilmahadeshwar/opt/anaconda3/lib/python3.8/site-packages/joblib/externals/loky/process_executor.py:688: UserWarning: A worker stopped while some jobs were given to the executor. This can be caused by a too short worker timeout or by a memory leak.\n",
      "  warnings.warn(\n"
     ]
    }
   ],
   "source": [
    "result = rscv.fit(X_train, y_train)"
   ]
  },
  {
   "cell_type": "code",
   "execution_count": 14,
   "id": "ed3f0e7f",
   "metadata": {},
   "outputs": [
    {
     "name": "stdout",
     "output_type": "stream",
     "text": [
      "{'rf__n_estimators': 10, 'rf__min_samples_leaf': 5, 'rf__max_features': 'sqrt', 'rf__max_depth': 15, 'rf__criterion': 'entropy', 'rf__bootstrap': False}\n",
      "0.7875068685106845\n"
     ]
    }
   ],
   "source": [
    "print(result.best_params_)\n",
    "print(result.best_score_)"
   ]
  },
  {
   "cell_type": "code",
   "execution_count": 15,
   "id": "e59fc990",
   "metadata": {},
   "outputs": [],
   "source": [
    "pipe = result.best_estimator_\n",
    "model = pipe.fit(X_train, y_train)"
   ]
  },
  {
   "cell_type": "code",
   "execution_count": 16,
   "id": "a810f5ff",
   "metadata": {},
   "outputs": [
    {
     "data": {
      "text/plain": [
       "<bound method Pipeline.get_params of Pipeline(steps=[('preprocessing',\n",
       "                 ColumnTransformer(transformers=[('categorical',\n",
       "                                                  Pipeline(steps=[('cat_imputer',\n",
       "                                                                   SimpleImputer(strategy='most_frequent')),\n",
       "                                                                  ('ohe',\n",
       "                                                                   OneHotEncoder(handle_unknown='ignore'))]),\n",
       "                                                  hotel                              True\n",
       "lead_time                         False\n",
       "arrival_date_year                 False\n",
       "arrival_date_month                 True\n",
       "arrival_date_week_number          False\n",
       "arrival_date_day_of_month         False\n",
       "stays_in_weekend_nights...\n",
       "deposit_type                      False\n",
       "agent                             False\n",
       "company                           False\n",
       "days_in_waiting_list               True\n",
       "customer_type                     False\n",
       "adr                                True\n",
       "required_car_parking_spaces        True\n",
       "total_of_special_requests          True\n",
       "reservation_status                False\n",
       "reservation_status_date           False\n",
       "dtype: bool)])),\n",
       "                ('rf',\n",
       "                 RandomForestClassifier(bootstrap=False, criterion='entropy',\n",
       "                                        max_depth=15, max_features='sqrt',\n",
       "                                        min_samples_leaf=5, n_estimators=10))])>"
      ]
     },
     "execution_count": 16,
     "metadata": {},
     "output_type": "execute_result"
    }
   ],
   "source": [
    "# Print model hyper parameters\n",
    "model.get_params"
   ]
  },
  {
   "cell_type": "code",
   "execution_count": 17,
   "id": "7efb0015",
   "metadata": {},
   "outputs": [],
   "source": [
    "y_pred = model.predict(X_test)"
   ]
  },
  {
   "cell_type": "code",
   "execution_count": 18,
   "id": "00063ad7",
   "metadata": {},
   "outputs": [
    {
     "name": "stdout",
     "output_type": "stream",
     "text": [
      "Balanced accuracy score:  0.7951\n",
      "Precision score: 0.8521\n",
      "Recall score: 0.8390\n",
      "F1 score: 0.8305\n"
     ]
    }
   ],
   "source": [
    "print(f\"Balanced accuracy score: {balanced_accuracy_score(y_test, y_pred): .4f}\")\n",
    "print(f\"Precision score: {precision_score(y_test, y_pred, average='weighted'):.4f}\")\n",
    "print(f\"Recall score: {recall_score(y_test, y_pred, average='weighted'):.4f}\")\n",
    "print(f\"F1 score: {f1_score(y_test, y_pred, average='weighted'):.4f}\")"
   ]
  },
  {
   "cell_type": "code",
   "execution_count": null,
   "id": "8c76e891",
   "metadata": {},
   "outputs": [],
   "source": []
  }
 ],
 "metadata": {
  "kernelspec": {
   "display_name": "Python 3 (ipykernel)",
   "language": "python",
   "name": "python3"
  },
  "language_info": {
   "codemirror_mode": {
    "name": "ipython",
    "version": 3
   },
   "file_extension": ".py",
   "mimetype": "text/x-python",
   "name": "python",
   "nbconvert_exporter": "python",
   "pygments_lexer": "ipython3",
   "version": "3.8.8"
  }
 },
 "nbformat": 4,
 "nbformat_minor": 5
}
