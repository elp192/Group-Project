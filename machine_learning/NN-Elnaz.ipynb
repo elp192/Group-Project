{
 "cells": [
  {
   "cell_type": "markdown",
   "id": "5dd41caa",
   "metadata": {},
   "source": [
    "## Load Cleaned Data"
   ]
  },
  {
   "cell_type": "code",
   "execution_count": null,
   "id": "5905d2dd",
   "metadata": {},
   "outputs": [],
   "source": [
    "# Import our dependencies.\n",
    "from sklearn.model_selection import train_test_split\n",
    "from sklearn.preprocessing import StandardScaler,OneHotEncoder\n",
    "from sklearn.model_selection import StratifiedKFold\n",
    "\n",
    "import pandas as pd\n",
    "import tensorflow as tf\n",
    "import pandas as pd \n"
   ]
  },
  {
   "cell_type": "code",
   "execution_count": null,
   "id": "47eb82ec",
   "metadata": {},
   "outputs": [],
   "source": [
    "# Import and read the cleaned data \n",
    "# In Progress\n",
    "hotel_df=pd.read_csv(\"hotel_reservations.csv\")"
   ]
  },
  {
   "cell_type": "code",
   "execution_count": null,
   "id": "1d803d30",
   "metadata": {},
   "outputs": [],
   "source": [
    "# Determine information in each column.\n",
    "hotel_df.info()"
   ]
  },
  {
   "cell_type": "code",
   "execution_count": null,
   "id": "6a9f9975",
   "metadata": {},
   "outputs": [],
   "source": [
    "# Determine the number of unique values in each column.\n",
    "hotel_df.nunique()"
   ]
  },
  {
   "cell_type": "markdown",
   "id": "275ffdcd",
   "metadata": {},
   "source": [
    "## Feature Selection"
   ]
  },
  {
   "cell_type": "code",
   "execution_count": null,
   "id": "49ce72b0",
   "metadata": {},
   "outputs": [],
   "source": [
    "# In Progress"
   ]
  },
  {
   "cell_type": "markdown",
   "id": "5bf09f07",
   "metadata": {},
   "source": [
    "## Binning"
   ]
  },
  {
   "cell_type": "code",
   "execution_count": null,
   "id": "a70b2ff5",
   "metadata": {},
   "outputs": [],
   "source": [
    "# In Progress"
   ]
  },
  {
   "cell_type": "code",
   "execution_count": null,
   "id": "9d25185f",
   "metadata": {},
   "outputs": [],
   "source": [
    "# Split data into train and test\n",
    "y=hotel_df_merge['is_canceled '].values\n",
    "X=hotel_df_merge.drop(['is_canceled'],1).values"
   ]
  },
  {
   "cell_type": "code",
   "execution_count": null,
   "id": "0ddfb19d",
   "metadata": {},
   "outputs": [],
   "source": [
    "# Split the data into a training and testing dataset\n",
    "X_train, X_test, y_train, y_test=train_test_split(X,y,random_state=78)"
   ]
  },
  {
   "cell_type": "code",
   "execution_count": null,
   "id": "7ead2720",
   "metadata": {},
   "outputs": [],
   "source": [
    "# Create a StandardScaler instances\n",
    "scaler = StandardScaler()\n",
    "\n",
    "# Fit the StandardScaler\n",
    "X_scaler = scaler.fit(X_train)\n",
    "\n",
    "# Scale the data\n",
    "X_train_scaled = X_scaler.transform(X_train)\n",
    "X_test_scaled = X_scaler.transform(X_test)"
   ]
  },
  {
   "cell_type": "code",
   "execution_count": null,
   "id": "f5449ad3",
   "metadata": {},
   "outputs": [],
   "source": [
    "print(X_train_scaled.shape)\n",
    "print(X_test_scaled.shape)"
   ]
  },
  {
   "cell_type": "markdown",
   "id": "f2125bf6",
   "metadata": {},
   "source": [
    "## Neural Network Model"
   ]
  },
  {
   "cell_type": "code",
   "execution_count": null,
   "id": "ba71c7ce",
   "metadata": {},
   "outputs": [],
   "source": [
    "# Cross Validation \n",
    "def model_structure():\n",
    "    nn = tf.keras.models.Sequential()\n",
    "\n",
    "    number_input_features=len(X_train[0])\n",
    "    hidden_nodes_layer1 =  100\n",
    "    hidden_nodes_layer2 = 50\n",
    "    # hidden_nodes_layer3 = 20\n",
    "\n",
    "\n",
    "\n",
    "    # First hidden layer\n",
    "    nn.add(tf.keras.layers.Dense(units=hidden_nodes_layer1,\n",
    "                             input_dim=number_input_features,\n",
    "                             activation='relu'))\n",
    "\n",
    "    # Second hidden layer\n",
    "    nn.add(tf.keras.layers.Dense(units=hidden_nodes_layer2,\n",
    "                             activation='relu'))\n",
    "\n",
    "    # Third hidden layer\n",
    "    # nn.add(tf.keras.layers.Dense(units=hidden_nodes_layer3,\n",
    "    #                          activation='relu'))\n",
    "\n",
    "    # Output layer\n",
    "    nn.add(tf.keras.layers.Dense(units=1, activation=\"sigmoid\"))\n",
    "\n",
    "    # Compile the model\n",
    "    nn.compile(loss=\"binary_crossentropy\", optimizer=\"adam\", metrics=[\"accuracy\"])\n",
    "    \n",
    "    # Check the structure of the model\n",
    "    retuen nn\n",
    "    \n",
    "estimator = KerasClassifier(build_fn=model_structure, nb_epoch=100, batch_size=100, verbose=0)\n",
    "kfold = KFold(n_splits=10)\n",
    "results = cross_val_score(estimator, X_train_scaled , y_train, cv=kfold)\n",
    "print(f\"Mean: {results.mean()}, STD: {results.std()}\")"
   ]
  },
  {
   "cell_type": "code",
   "execution_count": null,
   "id": "b7103ff9",
   "metadata": {},
   "outputs": [],
   "source": [
    "# Train the model\n",
    "model=model_structure\n",
    "fit_model=model.fit(X_train_scaled,y_train,epochs=100)"
   ]
  },
  {
   "cell_type": "code",
   "execution_count": null,
   "id": "e13c41cf",
   "metadata": {},
   "outputs": [],
   "source": [
    "# Evaluate the model using the test data\n",
    "model_loss, model_accuracy = model.evaluate(X_test_scaled,y_test,verbose=2)\n",
    "print(f\"Loss: {model_loss}, Accuracy: {model_accuracy}\")"
   ]
  }
 ],
 "metadata": {
  "kernelspec": {
   "display_name": "mlenv",
   "language": "python",
   "name": "mlenv"
  },
  "language_info": {
   "codemirror_mode": {
    "name": "ipython",
    "version": 3
   },
   "file_extension": ".py",
   "mimetype": "text/x-python",
   "name": "python",
   "nbconvert_exporter": "python",
   "pygments_lexer": "ipython3",
   "version": "3.7.10"
  }
 },
 "nbformat": 4,
 "nbformat_minor": 5
}
